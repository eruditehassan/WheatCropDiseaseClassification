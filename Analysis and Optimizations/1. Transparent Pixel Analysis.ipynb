{
 "cells": [
  {
   "cell_type": "markdown",
   "id": "79ba3764",
   "metadata": {},
   "source": [
    "# Calculating Transparent Pixel Percentage after Segmentation"
   ]
  },
  {
   "cell_type": "code",
   "execution_count": 1,
   "id": "8070d509",
   "metadata": {},
   "outputs": [
    {
     "name": "stderr",
     "output_type": "stream",
     "text": [
      "C:\\Users\\erudi\\anaconda3\\envs\\torch\\lib\\site-packages\\numpy\\_distributor_init.py:32: UserWarning: loaded more than 1 DLL from .libs:\n",
      "C:\\Users\\erudi\\anaconda3\\envs\\torch\\lib\\site-packages\\numpy\\.libs\\libopenblas.GK7GX5KEQ4F6UYO3P26ULGBQYHGQO7J4.gfortran-win_amd64.dll\n",
      "C:\\Users\\erudi\\anaconda3\\envs\\torch\\lib\\site-packages\\numpy\\.libs\\libopenblas.WCDJNK7YVMPZQ2ME2ZZHJJRJ3JIKNDB7.gfortran-win_amd64.dll\n",
      "  stacklevel=1)\n"
     ]
    }
   ],
   "source": [
    "# Import the OpenCV library for computer vision tasks\n",
    "import cv2\n",
    "\n",
    "# Import NumPy for numerical and array operations\n",
    "import numpy as np\n",
    "\n",
    "# Import the 'os' module for operating system-related functionality\n",
    "import os\n",
    "\n",
    "# Import the 'Image' class from the Python Imaging Library (PIL)\n",
    "from PIL import Image"
   ]
  },
  {
   "cell_type": "code",
   "execution_count": 46,
   "id": "35fb14d6",
   "metadata": {},
   "outputs": [],
   "source": [
    "def transparent_percentage(img_path):\n",
    "    \"\"\"\n",
    "    Calculate the percentage of transparent (white) pixels in an RGBA image.\n",
    "\n",
    "    Args:\n",
    "    - img_path (str): The path to the input image.\n",
    "\n",
    "    Returns:\n",
    "    - float: The percentage of transparent (white) pixels in the image.\n",
    "    \"\"\"\n",
    "    # Open the input image using the Python Imaging Library (PIL)\n",
    "    img = Image.open(img_path)\n",
    "    \n",
    "    # Convert the image to the RGBA color mode (with alpha channel)\n",
    "    img = img.convert(\"RGBA\")\n",
    "    \n",
    "    # Get the pixel data from the image\n",
    "    datas = img.getdata()\n",
    "    \n",
    "    # Initialize a counter for transparent (white) pixels\n",
    "    count = 0\n",
    "    \n",
    "    # Iterate through each pixel in the image data\n",
    "    for item in datas:\n",
    "        # Check if the pixel is completely white (fully transparent)\n",
    "        if item[0] == 255 and item[1] == 255 and item[2] == 255:\n",
    "            count += 1\n",
    "    \n",
    "    # Calculate the total size (number of pixels) in the image\n",
    "    total_size = img.size[0] * img.size[1]\n",
    "    \n",
    "    # Calculate and return the percentage of transparent (white) pixels\n",
    "    return count / total_size"
   ]
  },
  {
   "cell_type": "markdown",
   "id": "a7328e34",
   "metadata": {},
   "source": [
    "## Healthy"
   ]
  },
  {
   "cell_type": "code",
   "execution_count": 47,
   "id": "1341d07d",
   "metadata": {},
   "outputs": [
    {
     "data": {
      "text/plain": [
       "0.7920495123780945"
      ]
     },
     "execution_count": 47,
     "metadata": {},
     "output_type": "execute_result"
    }
   ],
   "source": [
    "# Healthy original\n",
    "transparent_percentage('./cropping_results/crop_orig_healthy.png')"
   ]
  },
  {
   "cell_type": "code",
   "execution_count": 49,
   "id": "16c1d7ee",
   "metadata": {},
   "outputs": [
    {
     "data": {
      "text/plain": [
       "0.13370951433510553"
      ]
     },
     "execution_count": 49,
     "metadata": {},
     "output_type": "execute_result"
    }
   ],
   "source": [
    "# Healthy Cropped\n",
    "transparent_percentage('./cropping_results/crop_healthy.PNG.png')"
   ]
  },
  {
   "cell_type": "markdown",
   "id": "1faa3a09",
   "metadata": {},
   "source": [
    "## Resistant"
   ]
  },
  {
   "cell_type": "code",
   "execution_count": 50,
   "id": "82b2b872",
   "metadata": {},
   "outputs": [
    {
     "data": {
      "text/plain": [
       "0.6549068999005251"
      ]
     },
     "execution_count": 50,
     "metadata": {},
     "output_type": "execute_result"
    }
   ],
   "source": [
    "# Resistant original\n",
    "transparent_percentage('./cropping_results/crop_orig_resistant.png')"
   ]
  },
  {
   "cell_type": "code",
   "execution_count": 51,
   "id": "e8535013",
   "metadata": {},
   "outputs": [
    {
     "data": {
      "text/plain": [
       "0.1258614263547023"
      ]
     },
     "execution_count": 51,
     "metadata": {},
     "output_type": "execute_result"
    }
   ],
   "source": [
    "# Resistant Cropped\n",
    "transparent_percentage('./cropping_results/crop_resistant.PNG.png')"
   ]
  },
  {
   "cell_type": "markdown",
   "id": "2a994f64",
   "metadata": {},
   "source": [
    "## Susceptible"
   ]
  },
  {
   "cell_type": "code",
   "execution_count": 52,
   "id": "48b84e5b",
   "metadata": {},
   "outputs": [
    {
     "data": {
      "text/plain": [
       "0.84988360183199"
      ]
     },
     "execution_count": 52,
     "metadata": {},
     "output_type": "execute_result"
    }
   ],
   "source": [
    "# Susceptible original\n",
    "transparent_percentage('./cropping_results/crop_orig_sus.png')"
   ]
  },
  {
   "cell_type": "code",
   "execution_count": 54,
   "id": "10322615",
   "metadata": {},
   "outputs": [
    {
     "data": {
      "text/plain": [
       "0.39396625456807405"
      ]
     },
     "execution_count": 54,
     "metadata": {},
     "output_type": "execute_result"
    }
   ],
   "source": [
    "# Susceptible Cropped\n",
    "transparent_percentage('./cropping_results/crop_sus.PNG.png')"
   ]
  },
  {
   "cell_type": "code",
   "execution_count": 57,
   "id": "6b17a379",
   "metadata": {},
   "outputs": [],
   "source": [
    "def automated_blank_pixel(data_path, directory):\n",
    "    \"\"\"\n",
    "    Calculate the percentage of transparent (white) pixels in multiple images in a directory.\n",
    "\n",
    "    Args:\n",
    "    - data_path (str): The path to the data directory containing image subdirectories.\n",
    "    - directory (str): The name of the specific subdirectory within 'data_path' containing images.\n",
    "\n",
    "    Returns:\n",
    "    - list: A list of transparent pixel percentages for each image in the specified directory.\n",
    "    \"\"\"\n",
    "    # List all image files in the specified subdirectory\n",
    "    images = os.listdir(os.path.join(data_path, directory))\n",
    "    \n",
    "    # Initialize a list to store transparent pixel percentages for each image\n",
    "    percentages = []\n",
    "    \n",
    "    # Iterate through each image in the specified directory\n",
    "    for img in images:\n",
    "        # Calculate the transparent pixel percentage for the current image\n",
    "        percentage = transparent_percentage(os.path.join(data_path, directory, img))\n",
    "        \n",
    "        # Append the calculated percentage to the list\n",
    "        percentages.append(percentage)\n",
    "    \n",
    "    # Return the list of transparent pixel percentages for all images in the directory\n",
    "    return percentages"
   ]
  },
  {
   "cell_type": "code",
   "execution_count": 58,
   "id": "41dae5f9",
   "metadata": {},
   "outputs": [],
   "source": [
    "test_pcnt = automated_blank_pixel('./Dataset', 'Healthy')"
   ]
  },
  {
   "cell_type": "code",
   "execution_count": 60,
   "id": "6017f94d",
   "metadata": {},
   "outputs": [
    {
     "data": {
      "text/plain": [
       "0.8420947850648874"
      ]
     },
     "execution_count": 60,
     "metadata": {},
     "output_type": "execute_result"
    }
   ],
   "source": [
    "np.mean(test_pcnt)"
   ]
  },
  {
   "cell_type": "code",
   "execution_count": 61,
   "id": "bf59bc95",
   "metadata": {},
   "outputs": [],
   "source": [
    "res_pcnt = automated_blank_pixel('./Dataset', 'Resistant')"
   ]
  },
  {
   "cell_type": "code",
   "execution_count": 62,
   "id": "35f89078",
   "metadata": {},
   "outputs": [
    {
     "data": {
      "text/plain": [
       "0.8354932649387862"
      ]
     },
     "execution_count": 62,
     "metadata": {},
     "output_type": "execute_result"
    }
   ],
   "source": [
    "np.mean(res_pcnt)"
   ]
  },
  {
   "cell_type": "code",
   "execution_count": 63,
   "id": "b9d91242",
   "metadata": {},
   "outputs": [],
   "source": [
    "sus_pcnt = automated_blank_pixel('./Dataset', 'Susceptible')"
   ]
  },
  {
   "cell_type": "code",
   "execution_count": 64,
   "id": "d54903fb",
   "metadata": {},
   "outputs": [
    {
     "data": {
      "text/plain": [
       "0.8368962549841226"
      ]
     },
     "execution_count": 64,
     "metadata": {},
     "output_type": "execute_result"
    }
   ],
   "source": [
    "np.mean(sus_pcnt)"
   ]
  },
  {
   "cell_type": "code",
   "execution_count": 65,
   "id": "c314aebc",
   "metadata": {},
   "outputs": [],
   "source": [
    "crop_healthy_pcnt = automated_blank_pixel('./Cropped_Dataset', 'Healthy')"
   ]
  },
  {
   "cell_type": "code",
   "execution_count": 66,
   "id": "9359f450",
   "metadata": {},
   "outputs": [
    {
     "data": {
      "text/plain": [
       "0.27508121145511005"
      ]
     },
     "execution_count": 66,
     "metadata": {},
     "output_type": "execute_result"
    }
   ],
   "source": [
    "np.mean(crop_healthy_pcnt)"
   ]
  },
  {
   "cell_type": "code",
   "execution_count": 67,
   "id": "eea08a6d",
   "metadata": {},
   "outputs": [],
   "source": [
    "crop_resistant_pcnt = automated_blank_pixel('./Cropped_Dataset', 'Resistant')"
   ]
  },
  {
   "cell_type": "code",
   "execution_count": 68,
   "id": "618afd2f",
   "metadata": {},
   "outputs": [
    {
     "data": {
      "text/plain": [
       "0.3806810952151972"
      ]
     },
     "execution_count": 68,
     "metadata": {},
     "output_type": "execute_result"
    }
   ],
   "source": [
    "np.mean(crop_resistant_pcnt)"
   ]
  },
  {
   "cell_type": "code",
   "execution_count": 69,
   "id": "3b70a2f5",
   "metadata": {},
   "outputs": [],
   "source": [
    "crop_sus_pcnt = automated_blank_pixel('./Cropped_Dataset', 'Susceptible')"
   ]
  },
  {
   "cell_type": "code",
   "execution_count": 70,
   "id": "8bd82373",
   "metadata": {},
   "outputs": [
    {
     "data": {
      "text/plain": [
       "0.38958524231067565"
      ]
     },
     "execution_count": 70,
     "metadata": {},
     "output_type": "execute_result"
    }
   ],
   "source": [
    "np.mean(crop_sus_pcnt)"
   ]
  },
  {
   "cell_type": "code",
   "execution_count": null,
   "id": "eea3f2e7",
   "metadata": {},
   "outputs": [],
   "source": []
  }
 ],
 "metadata": {
  "kernelspec": {
   "display_name": "Python 3 (ipykernel)",
   "language": "python",
   "name": "python3"
  },
  "language_info": {
   "codemirror_mode": {
    "name": "ipython",
    "version": 3
   },
   "file_extension": ".py",
   "mimetype": "text/x-python",
   "name": "python",
   "nbconvert_exporter": "python",
   "pygments_lexer": "ipython3",
   "version": "3.9.13"
  }
 },
 "nbformat": 4,
 "nbformat_minor": 5
}
